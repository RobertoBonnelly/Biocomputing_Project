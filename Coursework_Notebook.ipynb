{
 "cells": [
  {
   "cell_type": "code",
   "execution_count": 32,
   "metadata": {},
   "outputs": [],
   "source": [
    "# Biocomputing coursework project notebook.\n",
    "# In this notebook, all the code that will be submitted to GitHub and Gradescope\n",
    "# will be tried out and optimized as much as possible before deadline.\n",
    "\n",
    "# trying with biopython\n",
    "from Bio import SeqIO\n",
    "# read database fasta file\n",
    "multi_fasta = './dog_breeds.fa'\n",
    "# parsing sequences with seqio as\n",
    "# fasta format\n",
    "seqs = list(SeqIO.parse(multi_fasta, 'fasta'))\n",
    "# reading my target sequence as fasta\n",
    "sample = SeqIO.read('./mystery.fa', 'fasta')\n",
    "\n",
    "# NEXT SECTION I AM GOING TO TRY TO TELL THE CONSOLE THAT\n",
    "# EVERY LINE IN THE DATABASE THAT CONTAINS THE '>' CHARACTER\n",
    "# IS A DICT KEY AND EVERYTHING ELSE IS A VALUE\n",
    "# SEPARATE SEQUENCES WITH '>' SYMBOL INDEXES WHICH ARE GROUPED IN A LIST IN THE CELL BELOW"
   ]
  },
  {
   "cell_type": "code",
   "execution_count": 37,
   "metadata": {},
   "outputs": [
    {
     "data": {
      "text/plain": [
       "99.76"
      ]
     },
     "execution_count": 37,
     "metadata": {},
     "output_type": "execute_result"
    }
   ],
   "source": [
    "# function for obtaining match\n",
    "# scores\n",
    "def seq_al(target, database):\n",
    "    # importing libraries\n",
    "    import decimal\n",
    "    from Bio import Align\n",
    "    # specifying each match\n",
    "    # adds 1.0 to the score\n",
    "    aligner = Align.PairwiseAligner(match_score=1.0)\n",
    "    # getting score from target\n",
    "    # versus database sequence\n",
    "    score = aligner.score(target.seq, database.seq)\n",
    "    # calculating score percentage\n",
    "    dec_score = (score/len(database.seq))*100\n",
    "    # making result to be only\n",
    "    # two values after decimal\n",
    "    result = decimal.Decimal(dec_score).quantize(decimal.Decimal('0.00'))\n",
    "    #converting result to float\n",
    "    # for better manipulation\n",
    "    return float(result)"
   ]
  },
  {
   "cell_type": "code",
   "execution_count": 43,
   "metadata": {},
   "outputs": [
    {
     "data": {
      "text/plain": [
       "[' [breed=boxer',\n",
       " ' [breed=Portuguese Warren dog, small size, smooth hair',\n",
       " ' [breed=Azores Cattle dog',\n",
       " ' [breed=Aidi',\n",
       " ' [breed=Portuguese Sheepdog',\n",
       " ' [breed=Portuguese Sheepdog',\n",
       " ' [breed=Estrela Mountain dog',\n",
       " ' [breed=Portuguese Warren dog, small size, weired hair',\n",
       " ' [breed=Portuguese Warren dog, medium size, weired hair',\n",
       " ' [breed=Mixed breed',\n",
       " ' [breed=Camp dog',\n",
       " ' [breed=Portuguese Pointing Dog-long hair',\n",
       " ' [breed=Portuguese Pointing Dog-long hair',\n",
       " ' [breed=Portuguese Pointing Dog-long hair',\n",
       " ' [breed=Portuguese Pointing Dog',\n",
       " ' [breed=Portuguese Pointing Dog',\n",
       " ' [breed=Algarve Barrocal Dog',\n",
       " ' [breed=Portuguese Pointing Dog',\n",
       " ' [breed=Portuguese Water dog',\n",
       " ' [breed=Estrela Mountain dog',\n",
       " ' [breed=Mixed breed',\n",
       " ' [breed=Mixed breed',\n",
       " ' [breed=Mixed breed',\n",
       " ' [breed=Mixed breed',\n",
       " ' [breed=Mixed breed',\n",
       " ' [breed=Camp dog',\n",
       " ' [breed=Algarve Barrocal Dog',\n",
       " ' [breed=Sloughi',\n",
       " ' [breed=German Shepherd cross',\n",
       " ' [breed=Husky',\n",
       " ' [breed=Gambian local',\n",
       " ' [breed=Mixed breed',\n",
       " ' [breed=Mixed breed',\n",
       " ' [breed=Terrier cross',\n",
       " ' [breed=English Pointer',\n",
       " ' [breed=Aidi',\n",
       " ' [breed=Aidi',\n",
       " ' [breed=Mixed breed',\n",
       " ' [breed=Mixed breed',\n",
       " ' [breed=German Shepherd',\n",
       " ' [breed=Mixed breed',\n",
       " ' [breed=Sloughi',\n",
       " ' [breed=Mixed breed',\n",
       " ' [breed=Gambian local',\n",
       " ' [breed=Dachshund',\n",
       " ' [breed=Canis Panther',\n",
       " ' [breed=Mixed breed',\n",
       " ' [breed=Castro Laboreiro Watchdog',\n",
       " ' [breed=Castro Laboreiro Watchdog',\n",
       " ' [breed=Castro Laboreiro Watchdog',\n",
       " ' [breed=Castro Laboreiro Watchdog',\n",
       " ' [breed=Azores Cattle dog',\n",
       " ' [breed=Mixed breed',\n",
       " ' [breed=Mixed breed',\n",
       " ' [breed=German shepherd',\n",
       " ' [breed=Mixed breed',\n",
       " ' [breed=Indian local',\n",
       " ' [breed=Rottweiler cross',\n",
       " ' [breed=Mixed breed',\n",
       " ' [breed=Miniature Schnauzer',\n",
       " ' [breed=EpagneulBreton',\n",
       " ' [breed=Castro Laboreiro Watchdog',\n",
       " ' [breed=Great Dane cross',\n",
       " ' [breed=Dachshund',\n",
       " ' [breed=Mixed breed',\n",
       " ' [breed=Mixed breed',\n",
       " ' [breed=Mixed breed',\n",
       " ' [breed=Mixed breed',\n",
       " ' [breed=Indian local',\n",
       " ' [breed=Staffordshire Bull Terrier',\n",
       " ' [breed=Mixed breed',\n",
       " ' [breed=Mixed breed',\n",
       " ' [breed=Brazilian Terrier',\n",
       " ' [breed=Algarve Barrocal Dog',\n",
       " ' [breed=Algarve Barrocal Dog',\n",
       " ' [breed=Terrier cross',\n",
       " ' [breed=Mixed breed',\n",
       " ' [breed=Mastiff',\n",
       " ' [breed=Mixed breed',\n",
       " ' [breed=Black Retriever',\n",
       " ' [breed=Indian local',\n",
       " ' [breed=Mixed breed',\n",
       " ' [breed=Castro Laboreiro Watchdog',\n",
       " ' [breed=Cocker Spaniel',\n",
       " ' [breed=Mixed breed',\n",
       " ' [breed=Indian local',\n",
       " ' [breed=Pit bull',\n",
       " ' [breed=Algarve Barrocal Dog',\n",
       " ' [breed=Gambian local',\n",
       " ' [breed=German Shepherd cross',\n",
       " ' [breed=Irish Soft Coated Wheaten Terrier',\n",
       " ' [breed=Shar Pei',\n",
       " ' [breed=Indian local',\n",
       " ' [breed=English Springer Spaniel',\n",
       " ' [breed=Mixed breed',\n",
       " ' [breed=Mixed breed',\n",
       " ' [breed=Camp dog',\n",
       " ' [breed=Algarve Barrocal Dog',\n",
       " ' [breed=EpagneulBreton']"
      ]
     },
     "execution_count": 43,
     "metadata": {},
     "output_type": "execute_result"
    }
   ],
   "source": [
    "# creating list for getting breeds\n",
    "breed = []\n",
    "# getting each seqrecord from\n",
    "# database\n",
    "for seq in seqs:\n",
    "    # spliting descriptions to\n",
    "    # separate [breed]\n",
    "    desc = seq.description.split(']')\n",
    "    # iterating through descriptions\n",
    "    for i in desc:\n",
    "        # separating the breeds\n",
    "        # and adding them to list\n",
    "        if 'breed' in i and '=' in i:\n",
    "            breed.append(i)"
   ]
  },
  {
   "cell_type": "code",
   "execution_count": 47,
   "metadata": {},
   "outputs": [
    {
     "data": {
      "text/plain": [
       "'This sample has a higher chance of being a English Springer Spaniel, with a percentage of 99.86% and a 100% chance of being a good boy'"
      ]
     },
     "execution_count": 47,
     "metadata": {},
     "output_type": "execute_result"
    }
   ],
   "source": [
    "# creating final function to\n",
    "# obtain most probable breed\n",
    "def get_breed(target, dogs_seqs):\n",
    "    # creating empty list for\n",
    "    # every alignment score\n",
    "    every_score = []\n",
    "    # iterating over database sequences\n",
    "    for i in dogs_seqs:\n",
    "        # running scoring function\n",
    "        # for each sequence in database\n",
    "        # vs target sequence\n",
    "        every_score.append(seq_al(target, i))\n",
    "    # getting index of highest score\n",
    "    # to call this obtained index\n",
    "    # in the breeds list\n",
    "    top_breed = every_score.index(max(every_score))\n",
    "    return f\"This sample has a higher chance of being a{breed[top_breed].replace('[','').replace('breed=','')}, with a percentage of {max(every_score)}% and a 100% chance of being a good boy\"\n",
    "get_breed(sample, seqs)"
   ]
  },
  {
   "cell_type": "code",
   "execution_count": 46,
   "metadata": {},
   "outputs": [
    {
     "name": "stdout",
     "output_type": "stream",
     "text": [
      "<class 'list'>\n"
     ]
    }
   ],
   "source": [
    "#from Bio import pairwise2\n",
    "#for i in al_seq:\n",
    "   # alignment = pairwise2.align.globalxx(i, sample.seq)\n",
    "#alignment\n",
    "# THIS FIRST CODE RAN FOR 2 HOURS AND IS USELESS."
   ]
  }
 ],
 "metadata": {
  "kernelspec": {
   "display_name": "base",
   "language": "python",
   "name": "python3"
  },
  "language_info": {
   "codemirror_mode": {
    "name": "ipython",
    "version": 3
   },
   "file_extension": ".py",
   "mimetype": "text/x-python",
   "name": "python",
   "nbconvert_exporter": "python",
   "pygments_lexer": "ipython3",
   "version": "3.9.7"
  },
  "orig_nbformat": 4,
  "vscode": {
   "interpreter": {
    "hash": "a02c10c5250815f1b83dc2a16b43f2f8c181d53b5cbd90ac2996bea20c8d801c"
   }
  }
 },
 "nbformat": 4,
 "nbformat_minor": 2
}
